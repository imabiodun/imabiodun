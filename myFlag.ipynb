{
 "cells": [
  {
   "cell_type": "code",
   "execution_count": 1,
   "id": "3f758e38",
   "metadata": {},
   "outputs": [],
   "source": [
    "import numpy as np\n",
    "import matplotlib.pyplot as plt\n",
    "import matplotlib.patches as patch"
   ]
  },
  {
   "cell_type": "code",
   "execution_count": 35,
   "id": "80b06eaf",
   "metadata": {},
   "outputs": [
    {
     "data": {
      "image/png": "[encoded data removed]",
      "text/plain": [
       "<Figure size 432x288 with 1 Axes>"
      ]
     },
     "metadata": {
      "needs_background": "light"
     },
     "output_type": "display_data"
    }
   ],
   "source": [
    "a=patch.Rectangle((0,9), width=12, height =3,facecolor='#008800')\n",
    "# b=patch.Rectangle((0,6), width=12, height =3, facecolor='#fff')\n",
    "c=patch.Rectangle((0,3), width=12, height =3, facecolor='#008800')\n",
    "\n",
    "m,n=plt.subplots()\n",
    "n.add_patch(a)\n",
    "# n.add_patch(b)\n",
    "n.add_patch(c)\n",
    "plt.xlim(0)\n",
    "plt.axis('equal')\n",
    "plt.title('Nigerian Flag')\n",
    "plt.xticks(ticks=None)\n",
    "plt.show()"
   ]
  },
  {
   "cell_type": "code",
   "execution_count": null,
   "id": "ef50907d",
   "metadata": {},
   "outputs": [],
   "source": []
  }
 ],
 "metadata": {
  "kernelspec": {
   "display_name": "Python 3 (ipykernel)",
   "language": "python",
   "name": "python3"
  },
  "language_info": {
   "codemirror_mode": {
    "name": "ipython",
    "version": 3
   },
   "file_extension": ".py",
   "mimetype": "text/x-python",
   "name": "python",
   "nbconvert_exporter": "python",
   "pygments_lexer": "ipython3",
   "version": "3.8.6"
  }
 },
 "nbformat": 4,
 "nbformat_minor": 5
}
